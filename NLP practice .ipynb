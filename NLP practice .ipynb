{
 "cells": [
  {
   "cell_type": "code",
   "execution_count": 1,
   "id": "149b73f3",
   "metadata": {},
   "outputs": [],
   "source": [
    "import nltk\n",
    "import nltk.corpus\n",
    "from nltk.tokenize import word_tokenize"
   ]
  },
  {
   "cell_type": "code",
   "execution_count": 2,
   "id": "843a8730",
   "metadata": {},
   "outputs": [],
   "source": [
    "cricket = \"Get live cricket scores, cricket updates of upcoming International, domestic and T20 matches. Catch all the latest videos, news about cricket on ESPNcricinfo.\""
   ]
  },
  {
   "cell_type": "code",
   "execution_count": 3,
   "id": "e9345ae4",
   "metadata": {},
   "outputs": [
    {
     "data": {
      "text/plain": [
       "['Get',\n",
       " 'live',\n",
       " 'cricket',\n",
       " 'scores',\n",
       " ',',\n",
       " 'cricket',\n",
       " 'updates',\n",
       " 'of',\n",
       " 'upcoming',\n",
       " 'International',\n",
       " ',',\n",
       " 'domestic',\n",
       " 'and',\n",
       " 'T20',\n",
       " 'matches',\n",
       " '.',\n",
       " 'Catch',\n",
       " 'all',\n",
       " 'the',\n",
       " 'latest',\n",
       " 'videos',\n",
       " ',',\n",
       " 'news',\n",
       " 'about',\n",
       " 'cricket',\n",
       " 'on',\n",
       " 'ESPNcricinfo',\n",
       " '.']"
      ]
     },
     "execution_count": 3,
     "metadata": {},
     "output_type": "execute_result"
    }
   ],
   "source": [
    "cricket_tokens = word_tokenize(cricket)\n",
    "cricket_tokens"
   ]
  },
  {
   "cell_type": "code",
   "execution_count": 4,
   "id": "517de101",
   "metadata": {},
   "outputs": [],
   "source": [
    "from nltk.probability import FreqDist"
   ]
  },
  {
   "cell_type": "code",
   "execution_count": 5,
   "id": "00a27d5a",
   "metadata": {},
   "outputs": [
    {
     "name": "stdout",
     "output_type": "stream",
     "text": [
      "<FreqDist with 23 samples and 28 outcomes>\n"
     ]
    }
   ],
   "source": [
    "fdist = FreqDist()\n",
    "for i in cricket_tokens:\n",
    "    fdist[i] = fdist[i]+1\n",
    "print(fdist)"
   ]
  },
  {
   "cell_type": "code",
   "execution_count": 6,
   "id": "326ca943",
   "metadata": {},
   "outputs": [
    {
     "data": {
      "text/plain": [
       "[('cricket', 3),\n",
       " (',', 3),\n",
       " ('.', 2),\n",
       " ('Get', 1),\n",
       " ('live', 1),\n",
       " ('scores', 1),\n",
       " ('updates', 1),\n",
       " ('of', 1),\n",
       " ('upcoming', 1),\n",
       " ('International', 1)]"
      ]
     },
     "execution_count": 6,
     "metadata": {},
     "output_type": "execute_result"
    }
   ],
   "source": [
    "most_common = fdist.most_common(10)\n",
    "most_common"
   ]
  },
  {
   "cell_type": "code",
   "execution_count": 7,
   "id": "7aaa9c3e",
   "metadata": {},
   "outputs": [
    {
     "data": {
      "text/plain": [
       "[('G', 'e'),\n",
       " ('e', 't'),\n",
       " ('t', ' '),\n",
       " (' ', 'l'),\n",
       " ('l', 'i'),\n",
       " ('i', 'v'),\n",
       " ('v', 'e'),\n",
       " ('e', ' '),\n",
       " (' ', 'c'),\n",
       " ('c', 'r'),\n",
       " ('r', 'i'),\n",
       " ('i', 'c'),\n",
       " ('c', 'k'),\n",
       " ('k', 'e'),\n",
       " ('e', 't'),\n",
       " ('t', ' '),\n",
       " (' ', 's'),\n",
       " ('s', 'c'),\n",
       " ('c', 'o'),\n",
       " ('o', 'r'),\n",
       " ('r', 'e'),\n",
       " ('e', 's'),\n",
       " ('s', ','),\n",
       " (',', ' '),\n",
       " (' ', 'c'),\n",
       " ('c', 'r'),\n",
       " ('r', 'i'),\n",
       " ('i', 'c'),\n",
       " ('c', 'k'),\n",
       " ('k', 'e'),\n",
       " ('e', 't'),\n",
       " ('t', ' '),\n",
       " (' ', 'u'),\n",
       " ('u', 'p'),\n",
       " ('p', 'd'),\n",
       " ('d', 'a'),\n",
       " ('a', 't'),\n",
       " ('t', 'e'),\n",
       " ('e', 's'),\n",
       " ('s', ' '),\n",
       " (' ', 'o'),\n",
       " ('o', 'f'),\n",
       " ('f', ' '),\n",
       " (' ', 'u'),\n",
       " ('u', 'p'),\n",
       " ('p', 'c'),\n",
       " ('c', 'o'),\n",
       " ('o', 'm'),\n",
       " ('m', 'i'),\n",
       " ('i', 'n'),\n",
       " ('n', 'g'),\n",
       " ('g', ' '),\n",
       " (' ', 'I'),\n",
       " ('I', 'n'),\n",
       " ('n', 't'),\n",
       " ('t', 'e'),\n",
       " ('e', 'r'),\n",
       " ('r', 'n'),\n",
       " ('n', 'a'),\n",
       " ('a', 't'),\n",
       " ('t', 'i'),\n",
       " ('i', 'o'),\n",
       " ('o', 'n'),\n",
       " ('n', 'a'),\n",
       " ('a', 'l'),\n",
       " ('l', ','),\n",
       " (',', ' '),\n",
       " (' ', 'd'),\n",
       " ('d', 'o'),\n",
       " ('o', 'm'),\n",
       " ('m', 'e'),\n",
       " ('e', 's'),\n",
       " ('s', 't'),\n",
       " ('t', 'i'),\n",
       " ('i', 'c'),\n",
       " ('c', ' '),\n",
       " (' ', 'a'),\n",
       " ('a', 'n'),\n",
       " ('n', 'd'),\n",
       " ('d', ' '),\n",
       " (' ', 'T'),\n",
       " ('T', '2'),\n",
       " ('2', '0'),\n",
       " ('0', ' '),\n",
       " (' ', 'm'),\n",
       " ('m', 'a'),\n",
       " ('a', 't'),\n",
       " ('t', 'c'),\n",
       " ('c', 'h'),\n",
       " ('h', 'e'),\n",
       " ('e', 's'),\n",
       " ('s', '.'),\n",
       " ('.', ' '),\n",
       " (' ', 'C'),\n",
       " ('C', 'a'),\n",
       " ('a', 't'),\n",
       " ('t', 'c'),\n",
       " ('c', 'h'),\n",
       " ('h', ' '),\n",
       " (' ', 'a'),\n",
       " ('a', 'l'),\n",
       " ('l', 'l'),\n",
       " ('l', ' '),\n",
       " (' ', 't'),\n",
       " ('t', 'h'),\n",
       " ('h', 'e'),\n",
       " ('e', ' '),\n",
       " (' ', 'l'),\n",
       " ('l', 'a'),\n",
       " ('a', 't'),\n",
       " ('t', 'e'),\n",
       " ('e', 's'),\n",
       " ('s', 't'),\n",
       " ('t', ' '),\n",
       " (' ', 'v'),\n",
       " ('v', 'i'),\n",
       " ('i', 'd'),\n",
       " ('d', 'e'),\n",
       " ('e', 'o'),\n",
       " ('o', 's'),\n",
       " ('s', ','),\n",
       " (',', ' '),\n",
       " (' ', 'n'),\n",
       " ('n', 'e'),\n",
       " ('e', 'w'),\n",
       " ('w', 's'),\n",
       " ('s', ' '),\n",
       " (' ', 'a'),\n",
       " ('a', 'b'),\n",
       " ('b', 'o'),\n",
       " ('o', 'u'),\n",
       " ('u', 't'),\n",
       " ('t', ' '),\n",
       " (' ', 'c'),\n",
       " ('c', 'r'),\n",
       " ('r', 'i'),\n",
       " ('i', 'c'),\n",
       " ('c', 'k'),\n",
       " ('k', 'e'),\n",
       " ('e', 't'),\n",
       " ('t', ' '),\n",
       " (' ', 'o'),\n",
       " ('o', 'n'),\n",
       " ('n', ' '),\n",
       " (' ', 'E'),\n",
       " ('E', 'S'),\n",
       " ('S', 'P'),\n",
       " ('P', 'N'),\n",
       " ('N', 'c'),\n",
       " ('c', 'r'),\n",
       " ('r', 'i'),\n",
       " ('i', 'c'),\n",
       " ('c', 'i'),\n",
       " ('i', 'n'),\n",
       " ('n', 'f'),\n",
       " ('f', 'o'),\n",
       " ('o', '.')]"
      ]
     },
     "execution_count": 7,
     "metadata": {},
     "output_type": "execute_result"
    }
   ],
   "source": [
    "list(nltk.bigrams(cricket))"
   ]
  },
  {
   "cell_type": "code",
   "execution_count": 8,
   "id": "e7d29196",
   "metadata": {},
   "outputs": [
    {
     "data": {
      "text/plain": [
       "[('G', 'e', 't'),\n",
       " ('e', 't', ' '),\n",
       " ('t', ' ', 'l'),\n",
       " (' ', 'l', 'i'),\n",
       " ('l', 'i', 'v'),\n",
       " ('i', 'v', 'e'),\n",
       " ('v', 'e', ' '),\n",
       " ('e', ' ', 'c'),\n",
       " (' ', 'c', 'r'),\n",
       " ('c', 'r', 'i'),\n",
       " ('r', 'i', 'c'),\n",
       " ('i', 'c', 'k'),\n",
       " ('c', 'k', 'e'),\n",
       " ('k', 'e', 't'),\n",
       " ('e', 't', ' '),\n",
       " ('t', ' ', 's'),\n",
       " (' ', 's', 'c'),\n",
       " ('s', 'c', 'o'),\n",
       " ('c', 'o', 'r'),\n",
       " ('o', 'r', 'e'),\n",
       " ('r', 'e', 's'),\n",
       " ('e', 's', ','),\n",
       " ('s', ',', ' '),\n",
       " (',', ' ', 'c'),\n",
       " (' ', 'c', 'r'),\n",
       " ('c', 'r', 'i'),\n",
       " ('r', 'i', 'c'),\n",
       " ('i', 'c', 'k'),\n",
       " ('c', 'k', 'e'),\n",
       " ('k', 'e', 't'),\n",
       " ('e', 't', ' '),\n",
       " ('t', ' ', 'u'),\n",
       " (' ', 'u', 'p'),\n",
       " ('u', 'p', 'd'),\n",
       " ('p', 'd', 'a'),\n",
       " ('d', 'a', 't'),\n",
       " ('a', 't', 'e'),\n",
       " ('t', 'e', 's'),\n",
       " ('e', 's', ' '),\n",
       " ('s', ' ', 'o'),\n",
       " (' ', 'o', 'f'),\n",
       " ('o', 'f', ' '),\n",
       " ('f', ' ', 'u'),\n",
       " (' ', 'u', 'p'),\n",
       " ('u', 'p', 'c'),\n",
       " ('p', 'c', 'o'),\n",
       " ('c', 'o', 'm'),\n",
       " ('o', 'm', 'i'),\n",
       " ('m', 'i', 'n'),\n",
       " ('i', 'n', 'g'),\n",
       " ('n', 'g', ' '),\n",
       " ('g', ' ', 'I'),\n",
       " (' ', 'I', 'n'),\n",
       " ('I', 'n', 't'),\n",
       " ('n', 't', 'e'),\n",
       " ('t', 'e', 'r'),\n",
       " ('e', 'r', 'n'),\n",
       " ('r', 'n', 'a'),\n",
       " ('n', 'a', 't'),\n",
       " ('a', 't', 'i'),\n",
       " ('t', 'i', 'o'),\n",
       " ('i', 'o', 'n'),\n",
       " ('o', 'n', 'a'),\n",
       " ('n', 'a', 'l'),\n",
       " ('a', 'l', ','),\n",
       " ('l', ',', ' '),\n",
       " (',', ' ', 'd'),\n",
       " (' ', 'd', 'o'),\n",
       " ('d', 'o', 'm'),\n",
       " ('o', 'm', 'e'),\n",
       " ('m', 'e', 's'),\n",
       " ('e', 's', 't'),\n",
       " ('s', 't', 'i'),\n",
       " ('t', 'i', 'c'),\n",
       " ('i', 'c', ' '),\n",
       " ('c', ' ', 'a'),\n",
       " (' ', 'a', 'n'),\n",
       " ('a', 'n', 'd'),\n",
       " ('n', 'd', ' '),\n",
       " ('d', ' ', 'T'),\n",
       " (' ', 'T', '2'),\n",
       " ('T', '2', '0'),\n",
       " ('2', '0', ' '),\n",
       " ('0', ' ', 'm'),\n",
       " (' ', 'm', 'a'),\n",
       " ('m', 'a', 't'),\n",
       " ('a', 't', 'c'),\n",
       " ('t', 'c', 'h'),\n",
       " ('c', 'h', 'e'),\n",
       " ('h', 'e', 's'),\n",
       " ('e', 's', '.'),\n",
       " ('s', '.', ' '),\n",
       " ('.', ' ', 'C'),\n",
       " (' ', 'C', 'a'),\n",
       " ('C', 'a', 't'),\n",
       " ('a', 't', 'c'),\n",
       " ('t', 'c', 'h'),\n",
       " ('c', 'h', ' '),\n",
       " ('h', ' ', 'a'),\n",
       " (' ', 'a', 'l'),\n",
       " ('a', 'l', 'l'),\n",
       " ('l', 'l', ' '),\n",
       " ('l', ' ', 't'),\n",
       " (' ', 't', 'h'),\n",
       " ('t', 'h', 'e'),\n",
       " ('h', 'e', ' '),\n",
       " ('e', ' ', 'l'),\n",
       " (' ', 'l', 'a'),\n",
       " ('l', 'a', 't'),\n",
       " ('a', 't', 'e'),\n",
       " ('t', 'e', 's'),\n",
       " ('e', 's', 't'),\n",
       " ('s', 't', ' '),\n",
       " ('t', ' ', 'v'),\n",
       " (' ', 'v', 'i'),\n",
       " ('v', 'i', 'd'),\n",
       " ('i', 'd', 'e'),\n",
       " ('d', 'e', 'o'),\n",
       " ('e', 'o', 's'),\n",
       " ('o', 's', ','),\n",
       " ('s', ',', ' '),\n",
       " (',', ' ', 'n'),\n",
       " (' ', 'n', 'e'),\n",
       " ('n', 'e', 'w'),\n",
       " ('e', 'w', 's'),\n",
       " ('w', 's', ' '),\n",
       " ('s', ' ', 'a'),\n",
       " (' ', 'a', 'b'),\n",
       " ('a', 'b', 'o'),\n",
       " ('b', 'o', 'u'),\n",
       " ('o', 'u', 't'),\n",
       " ('u', 't', ' '),\n",
       " ('t', ' ', 'c'),\n",
       " (' ', 'c', 'r'),\n",
       " ('c', 'r', 'i'),\n",
       " ('r', 'i', 'c'),\n",
       " ('i', 'c', 'k'),\n",
       " ('c', 'k', 'e'),\n",
       " ('k', 'e', 't'),\n",
       " ('e', 't', ' '),\n",
       " ('t', ' ', 'o'),\n",
       " (' ', 'o', 'n'),\n",
       " ('o', 'n', ' '),\n",
       " ('n', ' ', 'E'),\n",
       " (' ', 'E', 'S'),\n",
       " ('E', 'S', 'P'),\n",
       " ('S', 'P', 'N'),\n",
       " ('P', 'N', 'c'),\n",
       " ('N', 'c', 'r'),\n",
       " ('c', 'r', 'i'),\n",
       " ('r', 'i', 'c'),\n",
       " ('i', 'c', 'i'),\n",
       " ('c', 'i', 'n'),\n",
       " ('i', 'n', 'f'),\n",
       " ('n', 'f', 'o'),\n",
       " ('f', 'o', '.')]"
      ]
     },
     "execution_count": 8,
     "metadata": {},
     "output_type": "execute_result"
    }
   ],
   "source": [
    "list(nltk.trigrams(cricket))"
   ]
  },
  {
   "cell_type": "code",
   "execution_count": 9,
   "id": "c6109095",
   "metadata": {},
   "outputs": [
    {
     "data": {
      "text/plain": [
       "[('G', 'e', 't', ' '),\n",
       " ('e', 't', ' ', 'l'),\n",
       " ('t', ' ', 'l', 'i'),\n",
       " (' ', 'l', 'i', 'v'),\n",
       " ('l', 'i', 'v', 'e'),\n",
       " ('i', 'v', 'e', ' '),\n",
       " ('v', 'e', ' ', 'c'),\n",
       " ('e', ' ', 'c', 'r'),\n",
       " (' ', 'c', 'r', 'i'),\n",
       " ('c', 'r', 'i', 'c'),\n",
       " ('r', 'i', 'c', 'k'),\n",
       " ('i', 'c', 'k', 'e'),\n",
       " ('c', 'k', 'e', 't'),\n",
       " ('k', 'e', 't', ' '),\n",
       " ('e', 't', ' ', 's'),\n",
       " ('t', ' ', 's', 'c'),\n",
       " (' ', 's', 'c', 'o'),\n",
       " ('s', 'c', 'o', 'r'),\n",
       " ('c', 'o', 'r', 'e'),\n",
       " ('o', 'r', 'e', 's'),\n",
       " ('r', 'e', 's', ','),\n",
       " ('e', 's', ',', ' '),\n",
       " ('s', ',', ' ', 'c'),\n",
       " (',', ' ', 'c', 'r'),\n",
       " (' ', 'c', 'r', 'i'),\n",
       " ('c', 'r', 'i', 'c'),\n",
       " ('r', 'i', 'c', 'k'),\n",
       " ('i', 'c', 'k', 'e'),\n",
       " ('c', 'k', 'e', 't'),\n",
       " ('k', 'e', 't', ' '),\n",
       " ('e', 't', ' ', 'u'),\n",
       " ('t', ' ', 'u', 'p'),\n",
       " (' ', 'u', 'p', 'd'),\n",
       " ('u', 'p', 'd', 'a'),\n",
       " ('p', 'd', 'a', 't'),\n",
       " ('d', 'a', 't', 'e'),\n",
       " ('a', 't', 'e', 's'),\n",
       " ('t', 'e', 's', ' '),\n",
       " ('e', 's', ' ', 'o'),\n",
       " ('s', ' ', 'o', 'f'),\n",
       " (' ', 'o', 'f', ' '),\n",
       " ('o', 'f', ' ', 'u'),\n",
       " ('f', ' ', 'u', 'p'),\n",
       " (' ', 'u', 'p', 'c'),\n",
       " ('u', 'p', 'c', 'o'),\n",
       " ('p', 'c', 'o', 'm'),\n",
       " ('c', 'o', 'm', 'i'),\n",
       " ('o', 'm', 'i', 'n'),\n",
       " ('m', 'i', 'n', 'g'),\n",
       " ('i', 'n', 'g', ' '),\n",
       " ('n', 'g', ' ', 'I'),\n",
       " ('g', ' ', 'I', 'n'),\n",
       " (' ', 'I', 'n', 't'),\n",
       " ('I', 'n', 't', 'e'),\n",
       " ('n', 't', 'e', 'r'),\n",
       " ('t', 'e', 'r', 'n'),\n",
       " ('e', 'r', 'n', 'a'),\n",
       " ('r', 'n', 'a', 't'),\n",
       " ('n', 'a', 't', 'i'),\n",
       " ('a', 't', 'i', 'o'),\n",
       " ('t', 'i', 'o', 'n'),\n",
       " ('i', 'o', 'n', 'a'),\n",
       " ('o', 'n', 'a', 'l'),\n",
       " ('n', 'a', 'l', ','),\n",
       " ('a', 'l', ',', ' '),\n",
       " ('l', ',', ' ', 'd'),\n",
       " (',', ' ', 'd', 'o'),\n",
       " (' ', 'd', 'o', 'm'),\n",
       " ('d', 'o', 'm', 'e'),\n",
       " ('o', 'm', 'e', 's'),\n",
       " ('m', 'e', 's', 't'),\n",
       " ('e', 's', 't', 'i'),\n",
       " ('s', 't', 'i', 'c'),\n",
       " ('t', 'i', 'c', ' '),\n",
       " ('i', 'c', ' ', 'a'),\n",
       " ('c', ' ', 'a', 'n'),\n",
       " (' ', 'a', 'n', 'd'),\n",
       " ('a', 'n', 'd', ' '),\n",
       " ('n', 'd', ' ', 'T'),\n",
       " ('d', ' ', 'T', '2'),\n",
       " (' ', 'T', '2', '0'),\n",
       " ('T', '2', '0', ' '),\n",
       " ('2', '0', ' ', 'm'),\n",
       " ('0', ' ', 'm', 'a'),\n",
       " (' ', 'm', 'a', 't'),\n",
       " ('m', 'a', 't', 'c'),\n",
       " ('a', 't', 'c', 'h'),\n",
       " ('t', 'c', 'h', 'e'),\n",
       " ('c', 'h', 'e', 's'),\n",
       " ('h', 'e', 's', '.'),\n",
       " ('e', 's', '.', ' '),\n",
       " ('s', '.', ' ', 'C'),\n",
       " ('.', ' ', 'C', 'a'),\n",
       " (' ', 'C', 'a', 't'),\n",
       " ('C', 'a', 't', 'c'),\n",
       " ('a', 't', 'c', 'h'),\n",
       " ('t', 'c', 'h', ' '),\n",
       " ('c', 'h', ' ', 'a'),\n",
       " ('h', ' ', 'a', 'l'),\n",
       " (' ', 'a', 'l', 'l'),\n",
       " ('a', 'l', 'l', ' '),\n",
       " ('l', 'l', ' ', 't'),\n",
       " ('l', ' ', 't', 'h'),\n",
       " (' ', 't', 'h', 'e'),\n",
       " ('t', 'h', 'e', ' '),\n",
       " ('h', 'e', ' ', 'l'),\n",
       " ('e', ' ', 'l', 'a'),\n",
       " (' ', 'l', 'a', 't'),\n",
       " ('l', 'a', 't', 'e'),\n",
       " ('a', 't', 'e', 's'),\n",
       " ('t', 'e', 's', 't'),\n",
       " ('e', 's', 't', ' '),\n",
       " ('s', 't', ' ', 'v'),\n",
       " ('t', ' ', 'v', 'i'),\n",
       " (' ', 'v', 'i', 'd'),\n",
       " ('v', 'i', 'd', 'e'),\n",
       " ('i', 'd', 'e', 'o'),\n",
       " ('d', 'e', 'o', 's'),\n",
       " ('e', 'o', 's', ','),\n",
       " ('o', 's', ',', ' '),\n",
       " ('s', ',', ' ', 'n'),\n",
       " (',', ' ', 'n', 'e'),\n",
       " (' ', 'n', 'e', 'w'),\n",
       " ('n', 'e', 'w', 's'),\n",
       " ('e', 'w', 's', ' '),\n",
       " ('w', 's', ' ', 'a'),\n",
       " ('s', ' ', 'a', 'b'),\n",
       " (' ', 'a', 'b', 'o'),\n",
       " ('a', 'b', 'o', 'u'),\n",
       " ('b', 'o', 'u', 't'),\n",
       " ('o', 'u', 't', ' '),\n",
       " ('u', 't', ' ', 'c'),\n",
       " ('t', ' ', 'c', 'r'),\n",
       " (' ', 'c', 'r', 'i'),\n",
       " ('c', 'r', 'i', 'c'),\n",
       " ('r', 'i', 'c', 'k'),\n",
       " ('i', 'c', 'k', 'e'),\n",
       " ('c', 'k', 'e', 't'),\n",
       " ('k', 'e', 't', ' '),\n",
       " ('e', 't', ' ', 'o'),\n",
       " ('t', ' ', 'o', 'n'),\n",
       " (' ', 'o', 'n', ' '),\n",
       " ('o', 'n', ' ', 'E'),\n",
       " ('n', ' ', 'E', 'S'),\n",
       " (' ', 'E', 'S', 'P'),\n",
       " ('E', 'S', 'P', 'N'),\n",
       " ('S', 'P', 'N', 'c'),\n",
       " ('P', 'N', 'c', 'r'),\n",
       " ('N', 'c', 'r', 'i'),\n",
       " ('c', 'r', 'i', 'c'),\n",
       " ('r', 'i', 'c', 'i'),\n",
       " ('i', 'c', 'i', 'n'),\n",
       " ('c', 'i', 'n', 'f'),\n",
       " ('i', 'n', 'f', 'o'),\n",
       " ('n', 'f', 'o', '.')]"
      ]
     },
     "execution_count": 9,
     "metadata": {},
     "output_type": "execute_result"
    }
   ],
   "source": [
    "list(nltk.ngrams(cricket,4))"
   ]
  },
  {
   "cell_type": "code",
   "execution_count": 10,
   "id": "bac30d70",
   "metadata": {},
   "outputs": [],
   "source": [
    "from nltk.stem import PorterStemmer\n",
    "pst = PorterStemmer()"
   ]
  },
  {
   "cell_type": "code",
   "execution_count": 11,
   "id": "21364fd9",
   "metadata": {},
   "outputs": [
    {
     "data": {
      "text/plain": [
       "('win', 'give', 'take')"
      ]
     },
     "execution_count": 11,
     "metadata": {},
     "output_type": "execute_result"
    }
   ],
   "source": [
    "pst.stem(\"Winning\"), pst.stem(\"giving\"), pst.stem(\"Taking\")"
   ]
  },
  {
   "cell_type": "code",
   "execution_count": 12,
   "id": "af6719bc",
   "metadata": {},
   "outputs": [],
   "source": [
    "from nltk.stem import wordnet\n",
    "from nltk.stem import WordNetLemmatizer\n",
    "lemmatizer = WordNetLemmatizer()"
   ]
  },
  {
   "cell_type": "code",
   "execution_count": 13,
   "id": "8b37fbbd",
   "metadata": {},
   "outputs": [
    {
     "name": "stdout",
     "output_type": "stream",
     "text": [
      "cats:cat\n",
      "dogs:dog\n",
      "cows:cow\n",
      "birds:bird\n",
      "horses:horse\n"
     ]
    }
   ],
   "source": [
    "word_to_stem = ['cats', 'dogs', 'cows', 'birds', 'horses']\n",
    "for i in word_to_stem:\n",
    "    a = lemmatizer.lemmatize(i)\n",
    "    print(f\"{i}:{a}\")"
   ]
  },
  {
   "cell_type": "markdown",
   "id": "1e16d2e0",
   "metadata": {},
   "source": [
    "# Parts of Speech"
   ]
  },
  {
   "cell_type": "code",
   "execution_count": 14,
   "id": "deba9e6f",
   "metadata": {},
   "outputs": [],
   "source": [
    "peace = \"what do you mean ? i don't believe in God? i talk to him everyday.\""
   ]
  },
  {
   "cell_type": "code",
   "execution_count": 15,
   "id": "59aa1ae0",
   "metadata": {},
   "outputs": [
    {
     "data": {
      "text/plain": [
       "['what',\n",
       " 'do',\n",
       " 'you',\n",
       " 'mean',\n",
       " '?',\n",
       " 'i',\n",
       " 'do',\n",
       " \"n't\",\n",
       " 'believe',\n",
       " 'in',\n",
       " 'God',\n",
       " '?',\n",
       " 'i',\n",
       " 'talk',\n",
       " 'to',\n",
       " 'him',\n",
       " 'everyday',\n",
       " '.']"
      ]
     },
     "execution_count": 15,
     "metadata": {},
     "output_type": "execute_result"
    }
   ],
   "source": [
    "peace_tokenize = word_tokenize(peace)\n",
    "peace_tokenize"
   ]
  },
  {
   "cell_type": "code",
   "execution_count": 16,
   "id": "e9260ae3",
   "metadata": {},
   "outputs": [
    {
     "name": "stdout",
     "output_type": "stream",
     "text": [
      "[('what', 'WP')]\n",
      "[('do', 'VB')]\n",
      "[('you', 'PRP')]\n",
      "[('mean', 'NN')]\n",
      "[('?', '.')]\n",
      "[('i', 'NN')]\n",
      "[('do', 'VB')]\n",
      "[(\"n't\", 'RB')]\n",
      "[('believe', 'VB')]\n",
      "[('in', 'IN')]\n",
      "[('God', 'NNP')]\n",
      "[('?', '.')]\n",
      "[('i', 'NN')]\n",
      "[('talk', 'NN')]\n",
      "[('to', 'TO')]\n",
      "[('him', 'PRP')]\n",
      "[('everyday', 'NN')]\n",
      "[('.', '.')]\n"
     ]
    }
   ],
   "source": [
    "for i in peace_tokenize:\n",
    "    print(nltk.pos_tag([i]))\n"
   ]
  },
  {
   "cell_type": "code",
   "execution_count": 17,
   "id": "552153eb",
   "metadata": {},
   "outputs": [],
   "source": [
    "from nltk import ne_chunk"
   ]
  },
  {
   "cell_type": "code",
   "execution_count": 18,
   "id": "22c0078e",
   "metadata": {},
   "outputs": [],
   "source": [
    "john = \"John lives in New York\""
   ]
  },
  {
   "cell_type": "code",
   "execution_count": 19,
   "id": "3a293800",
   "metadata": {},
   "outputs": [
    {
     "name": "stdout",
     "output_type": "stream",
     "text": [
      "(S (PERSON John/NNP) lives/VBZ in/IN (GPE New/NNP York/NNP))\n"
     ]
    }
   ],
   "source": [
    "john_token = nltk.word_tokenize(john)\n",
    "john_token = nltk.pos_tag(john_token)\n",
    "john_token = ne_chunk(john_token)\n",
    "print(john_token)"
   ]
  },
  {
   "cell_type": "markdown",
   "id": "816aeb6e",
   "metadata": {},
   "source": [
    "# Introduction to SpaCy"
   ]
  },
  {
   "cell_type": "code",
   "execution_count": 20,
   "id": "4d5066fd",
   "metadata": {},
   "outputs": [],
   "source": [
    "import spacy"
   ]
  },
  {
   "cell_type": "code",
   "execution_count": 21,
   "id": "1d9c6208",
   "metadata": {},
   "outputs": [],
   "source": [
    "nlp = spacy.load(\"en_core_web_sm\")\n"
   ]
  },
  {
   "cell_type": "code",
   "execution_count": 22,
   "id": "bd8dc5e2",
   "metadata": {},
   "outputs": [],
   "source": [
    "doc = nlp(\"This is sparta!!\")"
   ]
  },
  {
   "cell_type": "code",
   "execution_count": 25,
   "id": "adeb0ae4",
   "metadata": {},
   "outputs": [
    {
     "name": "stdout",
     "output_type": "stream",
     "text": [
      "0 This\n",
      "1 is\n",
      "2 sparta\n",
      "3 !\n",
      "4 !\n"
     ]
    }
   ],
   "source": [
    "for token in doc:\n",
    "    print(token.i, token.text)"
   ]
  },
  {
   "cell_type": "code",
   "execution_count": 26,
   "id": "78cd5479",
   "metadata": {},
   "outputs": [
    {
     "data": {
      "text/plain": [
       "sparta"
      ]
     },
     "execution_count": 26,
     "metadata": {},
     "output_type": "execute_result"
    }
   ],
   "source": [
    "token = doc[2]\n",
    "token"
   ]
  },
  {
   "cell_type": "code",
   "execution_count": 31,
   "id": "4721e8be",
   "metadata": {},
   "outputs": [],
   "source": [
    "doc = nlp(\"Apple is loking to by UK startup for 1 billion $\")"
   ]
  },
  {
   "cell_type": "code",
   "execution_count": 34,
   "id": "3353b5b3",
   "metadata": {},
   "outputs": [
    {
     "name": "stdout",
     "output_type": "stream",
     "text": [
      "Apple ORG\n",
      "UK GPE\n",
      "1 billion $ MONEY\n"
     ]
    }
   ],
   "source": [
    "for ent in doc.ents:\n",
    "    print(ent.text,ent.label_)"
   ]
  },
  {
   "cell_type": "code",
   "execution_count": 2,
   "id": "2d04ac22",
   "metadata": {},
   "outputs": [
    {
     "name": "stdout",
     "output_type": "stream",
     "text": [
      "8585552006568828647 Hello World 0 3 Hello, world\n"
     ]
    }
   ],
   "source": [
    "import spacy\n",
    "from spacy.matcher import Matcher\n",
    "\n",
    "nlp = spacy.load(\"en_core_web_sm\")\n",
    "matcher = Matcher(nlp.vocab)\n",
    "# Add match ID \"HelloWorld\" with no callback and one pattern\n",
    "pattern = [{\"LOWER\": \"hello\"}, {\"IS_PUNCT\": True}, {\"LOWER\": \"world\"}]\n",
    "matcher.add(\"Hello World\", [pattern])\n",
    "\n",
    "doc = nlp(\"Hello, world! Hello world!\")\n",
    "matches = matcher(doc)\n",
    "for match_id, start, end in matches:\n",
    "    string_id = nlp.vocab.strings[match_id]  # Get string representation\n",
    "    span = doc[start:end]  # The matched span\n",
    "    print(match_id, string_id, start, end, span.text)"
   ]
  },
  {
   "cell_type": "code",
   "execution_count": null,
   "id": "6f505278",
   "metadata": {},
   "outputs": [],
   "source": []
  }
 ],
 "metadata": {
  "kernelspec": {
   "display_name": "Python 3 (ipykernel)",
   "language": "python",
   "name": "python3"
  },
  "language_info": {
   "codemirror_mode": {
    "name": "ipython",
    "version": 3
   },
   "file_extension": ".py",
   "mimetype": "text/x-python",
   "name": "python",
   "nbconvert_exporter": "python",
   "pygments_lexer": "ipython3",
   "version": "3.10.6"
  }
 },
 "nbformat": 4,
 "nbformat_minor": 5
}
